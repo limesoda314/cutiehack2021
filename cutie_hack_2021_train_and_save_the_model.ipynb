{
  "nbformat": 4,
  "nbformat_minor": 0,
  "metadata": {
    "colab": {
      "name": "cutie hack 2021 - train and save the model.ipynb",
      "provenance": [],
      "collapsed_sections": [],
      "authorship_tag": "ABX9TyO4c3BgHjiGHpeFSeON4LdD",
      "include_colab_link": true
    },
    "kernelspec": {
      "name": "python3",
      "display_name": "Python 3"
    },
    "language_info": {
      "name": "python"
    },
    "accelerator": "GPU"
  },
  "cells": [
    {
      "cell_type": "markdown",
      "metadata": {
        "id": "view-in-github",
        "colab_type": "text"
      },
      "source": [
        "<a href=\"https://colab.research.google.com/github/limesoda314/cutiehack2021/blob/main/cutie_hack_2021_train_and_save_the_model.ipynb\" target=\"_parent\"><img src=\"https://colab.research.google.com/assets/colab-badge.svg\" alt=\"Open In Colab\"/></a>"
      ]
    },
    {
      "cell_type": "markdown",
      "metadata": {
        "id": "Z8NsAKgSDrX7"
      },
      "source": [
        "# Cutie Hack 2021 \n",
        "Our project will allow a user to draw a number and then have the program attempt to classify it. This jupyter notebook will allow us to save a CNN model that is trained on the mnist dataset. We are using keras with a tensorflow backend to create our classification model. We are using a Convolutional Neural Network since this will allow us to get more accurate results that we can save and use in our project."
      ]
    },
    {
      "cell_type": "code",
      "metadata": {
        "colab": {
          "base_uri": "https://localhost:8080/"
        },
        "id": "OKnQlqquDhv5",
        "outputId": "53469e57-58c5-4edd-d47b-42f249ac4e63"
      },
      "source": [
        "from google.colab import drive\n",
        "drive.mount('/content/drive/')\n",
        "# since we want to save the model"
      ],
      "execution_count": 95,
      "outputs": [
        {
          "output_type": "stream",
          "name": "stdout",
          "text": [
            "Drive already mounted at /content/drive/; to attempt to forcibly remount, call drive.mount(\"/content/drive/\", force_remount=True).\n"
          ]
        }
      ]
    },
    {
      "cell_type": "code",
      "metadata": {
        "id": "bNvKeBpUEcqF"
      },
      "source": [
        "%tensorflow_version 2.x\n",
        "import tensorflow as tf\n",
        "# making sure we are using the correct version of tensorflow"
      ],
      "execution_count": 96,
      "outputs": []
    },
    {
      "cell_type": "markdown",
      "metadata": {
        "id": "7wIybknHFspT"
      },
      "source": [
        "# Importing libraries "
      ]
    },
    {
      "cell_type": "code",
      "metadata": {
        "id": "Kjpvb63UEsgy"
      },
      "source": [
        "import keras                          # what we're using to create the model \n",
        "from keras.models import Sequential   # the model type that we're using \n",
        "from keras.layers import Dense, Conv2D, Flatten, Dropout, MaxPooling2D, BatchNormalization    # these are the layers that we will be using later in our CNN \n",
        "from keras import backend as k        # this is to make sure we are using the correct color channels \n",
        "from keras import models              # this will allow us to save our model \n",
        "\n",
        "import pandas as pd                   # for the pandas dataframes\n",
        "import numpy as np                    # we'll be using this for one hot encoding \n",
        "import matplotlib.pyplot as plt       # this is used for plotting \n",
        "import seaborn as sns                 # prettier plotting than pyplot\n",
        "\n",
        "# improve formatting when ouputting NumPy arrays.\n",
        "np.set_printoptions(linewidth = 200)"
      ],
      "execution_count": 126,
      "outputs": []
    },
    {
      "cell_type": "markdown",
      "metadata": {
        "id": "dINm4yYWFnMJ"
      },
      "source": [
        "# Importing MNIST dataset\n",
        "\n",
        "Keras already provides us the MNIST dataset. As such we are going to split this into 2 datasets: test and train.\n",
        "\n",
        "The x stands for our data or images and the y is our target or labels (the digit names). "
      ]
    },
    {
      "cell_type": "code",
      "metadata": {
        "id": "FRtUyPZKFmhG"
      },
      "source": [
        "from keras.datasets import mnist\n",
        "(x_train, y_train), (x_test, y_test) = mnist.load_data()"
      ],
      "execution_count": 121,
      "outputs": []
    },
    {
      "cell_type": "markdown",
      "metadata": {
        "id": "RwUZ508JGAwu"
      },
      "source": [
        "# Initial shape of our training and test sets\n",
        "\n",
        "As you can tell we are supplying our model with 60,000 sample images of 28x28 pixels and we have a test set of 10,000 images.\n",
        "\n",
        "\n"
      ]
    },
    {
      "cell_type": "code",
      "metadata": {
        "colab": {
          "base_uri": "https://localhost:8080/"
        },
        "id": "esA7dfcOGDU2",
        "outputId": "30b8baf9-e0e3-4120-83ac-df8fe5337b25"
      },
      "source": [
        "print(\"x_train: {}\".format(x_train.shape))\n",
        "print(\"y_train: {}\".format(y_train.shape))\n",
        "print(\"x_test:  {}\".format(x_test.shape))\n",
        "print(\"y_test:  {}\".format(y_test.shape))"
      ],
      "execution_count": 99,
      "outputs": [
        {
          "output_type": "stream",
          "name": "stdout",
          "text": [
            "x_train: (60000, 28, 28)\n",
            "y_train: (60000,)\n",
            "x_test:  (10000, 28, 28)\n",
            "y_test:  (10000,)\n"
          ]
        }
      ]
    },
    {
      "cell_type": "markdown",
      "metadata": {
        "id": "z3nwOG9Wa1Or"
      },
      "source": [
        "# Viewing the dataset"
      ]
    },
    {
      "cell_type": "code",
      "metadata": {
        "colab": {
          "base_uri": "https://localhost:8080/",
          "height": 308
        },
        "id": "euqsWZG_axDg",
        "outputId": "d437211f-5980-42fa-897e-52752f383bff"
      },
      "source": [
        "plt.figure(figsize=(28,4))\n",
        "for index, (image, label) in enumerate(zip(x_train[0:5], y_train[0:5])):\n",
        "  plt.subplot(1, 5, index + 1)\n",
        "  plt.imshow(np.reshape(image, (28,28)), cmap=plt.cm.gray)\n",
        "  plt.title('Training: %i\\n' % label, fontsize = 20)"
      ],
      "execution_count": 100,
      "outputs": [
        {
          "output_type": "display_data",
          "data": {
            "image/png": "[encoded data removed]",
            "text/plain": [
              "<Figure size 2016x288 with 5 Axes>"
            ]
          },
          "metadata": {
            "needs_background": "light"
          }
        }
      ]
    },
    {
      "cell_type": "markdown",
      "metadata": {
        "id": "Q9otT_VrJNsP"
      },
      "source": [
        "# One Hot Encoding\n",
        "In the following lines of code we are converting the target datasets to use one-hot encoding. In one-hot encoding, we convert each class a binary array where we have 0 to represent that it is not that class and 1 to represent that it is. "
      ]
    },
    {
      "cell_type": "code",
      "metadata": {
        "colab": {
          "base_uri": "https://localhost:8080/"
        },
        "id": "vkjp_rsMK44k",
        "outputId": "eb028b69-a007-4d6d-dba8-59a70ebd2d26"
      },
      "source": [
        "# before one hot encoding \n",
        "print(\"y_train[0]:\", y_train[0])"
      ],
      "execution_count": 101,
      "outputs": [
        {
          "output_type": "stream",
          "name": "stdout",
          "text": [
            "y_train[0]: 5\n"
          ]
        }
      ]
    },
    {
      "cell_type": "code",
      "metadata": {
        "id": "gf-IAMFYIrOv"
      },
      "source": [
        "from keras.utils.np_utils import to_categorical\n",
        "y_train = to_categorical(y_train, num_classes=10)\n",
        "y_test = to_categorical(y_test, num_classes=10)"
      ],
      "execution_count": 102,
      "outputs": []
    },
    {
      "cell_type": "code",
      "metadata": {
        "colab": {
          "base_uri": "https://localhost:8080/"
        },
        "id": "GmXq-TqeJk8U",
        "outputId": "1bff0dfe-e76d-4403-db6a-54a4b8ac25a0"
      },
      "source": [
        "# after one hot encoding\n",
        "print(\"y_train[0]:\", y_train[0])"
      ],
      "execution_count": 103,
      "outputs": [
        {
          "output_type": "stream",
          "name": "stdout",
          "text": [
            "y_train[0]: [0. 0. 0. 0. 0. 1. 0. 0. 0. 0.]\n"
          ]
        }
      ]
    },
    {
      "cell_type": "markdown",
      "metadata": {
        "id": "7pVSg8WFKmt6"
      },
      "source": [
        "To convert our data back to what we had earlier we can just do the following line:\n",
        "\n",
        "```\n",
        "y_test = np.argmax(y_test, axis=1)\n",
        "```"
      ]
    },
    {
      "cell_type": "markdown",
      "metadata": {
        "id": "qIKz9iEVHdr3"
      },
      "source": [
        "# Reshaping our data\n",
        "Each image in our x_train dataset is stored as an array of pixel values which can be a number from 0-255. Now how does that affect us? If we were to directly train a model using the dataset as is, we could have a very skewed representation since we could have most of our values within a small range and then have 2-3 outliers. Our model will also train faster if the values are within a smaller range. \n",
        "\n",
        "As a result, we want to standardize our dataset such that we have values from 0-1. To do this we can just divide by 255. However in doing so, we want to make sure that we get decimal values since doing integer division will give us a value that is either 0 or 1."
      ]
    },
    {
      "cell_type": "code",
      "metadata": {
        "colab": {
          "base_uri": "https://localhost:8080/"
        },
        "id": "BSxN5WKcxqJU",
        "outputId": "a3b3fa78-a205-4cfd-856f-100d863b90da"
      },
      "source": [
        "x_train[1]"
      ],
      "execution_count": 130,
      "outputs": [
        {
          "output_type": "execute_result",
          "data": {
            "text/plain": [
              "array([[  0,   0,   0,   0,   0,   0,   0,   0,   0,   0,   0,   0,   0,   0,   0,   0,   0,   0,   0,   0,   0,   0,   0,   0,   0,   0,   0,   0],\n",
              "       [  0,   0,   0,   0,   0,   0,   0,   0,   0,   0,   0,   0,   0,   0,   0,   0,   0,   0,   0,   0,   0,   0,   0,   0,   0,   0,   0,   0],\n",
              "       [  0,   0,   0,   0,   0,   0,   0,   0,   0,   0,   0,   0,   0,   0,   0,   0,   0,   0,   0,   0,   0,   0,   0,   0,   0,   0,   0,   0],\n",
              "       [  0,   0,   0,   0,   0,   0,   0,   0,   0,   0,   0,   0,   0,   0,   0,   0,   0,   0,   0,   0,   0,   0,   0,   0,   0,   0,   0,   0],\n",
              "       [  0,   0,   0,   0,   0,   0,   0,   0,   0,   0,   0,   0,   0,   0,   0,  51, 159, 253, 159,  50,   0,   0,   0,   0,   0,   0,   0,   0],\n",
              "       [  0,   0,   0,   0,   0,   0,   0,   0,   0,   0,   0,   0,   0,   0,  48, 238, 252, 252, 252, 237,   0,   0,   0,   0,   0,   0,   0,   0],\n",
              "       [  0,   0,   0,   0,   0,   0,   0,   0,   0,   0,   0,   0,   0,  54, 227, 253, 252, 239, 233, 252,  57,   6,   0,   0,   0,   0,   0,   0],\n",
              "       [  0,   0,   0,   0,   0,   0,   0,   0,   0,   0,   0,  10,  60, 224, 252, 253, 252, 202,  84, 252, 253, 122,   0,   0,   0,   0,   0,   0],\n",
              "       [  0,   0,   0,   0,   0,   0,   0,   0,   0,   0,   0, 163, 252, 252, 252, 253, 252, 252,  96, 189, 253, 167,   0,   0,   0,   0,   0,   0],\n",
              "       [  0,   0,   0,   0,   0,   0,   0,   0,   0,   0,  51, 238, 253, 253, 190, 114, 253, 228,  47,  79, 255, 168,   0,   0,   0,   0,   0,   0],\n",
              "       [  0,   0,   0,   0,   0,   0,   0,   0,   0,  48, 238, 252, 252, 179,  12,  75, 121,  21,   0,   0, 253, 243,  50,   0,   0,   0,   0,   0],\n",
              "       [  0,   0,   0,   0,   0,   0,   0,   0,  38, 165, 253, 233, 208,  84,   0,   0,   0,   0,   0,   0, 253, 252, 165,   0,   0,   0,   0,   0],\n",
              "       [  0,   0,   0,   0,   0,   0,   0,   7, 178, 252, 240,  71,  19,  28,   0,   0,   0,   0,   0,   0, 253, 252, 195,   0,   0,   0,   0,   0],\n",
              "       [  0,   0,   0,   0,   0,   0,   0,  57, 252, 252,  63,   0,   0,   0,   0,   0,   0,   0,   0,   0, 253, 252, 195,   0,   0,   0,   0,   0],\n",
              "       [  0,   0,   0,   0,   0,   0,   0, 198, 253, 190,   0,   0,   0,   0,   0,   0,   0,   0,   0,   0, 255, 253, 196,   0,   0,   0,   0,   0],\n",
              "       [  0,   0,   0,   0,   0,   0,  76, 246, 252, 112,   0,   0,   0,   0,   0,   0,   0,   0,   0,   0, 253, 252, 148,   0,   0,   0,   0,   0],\n",
              "       [  0,   0,   0,   0,   0,   0,  85, 252, 230,  25,   0,   0,   0,   0,   0,   0,   0,   0,   7, 135, 253, 186,  12,   0,   0,   0,   0,   0],\n",
              "       [  0,   0,   0,   0,   0,   0,  85, 252, 223,   0,   0,   0,   0,   0,   0,   0,   0,   7, 131, 252, 225,  71,   0,   0,   0,   0,   0,   0],\n",
              "       [  0,   0,   0,   0,   0,   0,  85, 252, 145,   0,   0,   0,   0,   0,   0,   0,  48, 165, 252, 173,   0,   0,   0,   0,   0,   0,   0,   0],\n",
              "       [  0,   0,   0,   0,   0,   0,  86, 253, 225,   0,   0,   0,   0,   0,   0, 114, 238, 253, 162,   0,   0,   0,   0,   0,   0,   0,   0,   0],\n",
              "       [  0,   0,   0,   0,   0,   0,  85, 252, 249, 146,  48,  29,  85, 178, 225, 253, 223, 167,  56,   0,   0,   0,   0,   0,   0,   0,   0,   0],\n",
              "       [  0,   0,   0,   0,   0,   0,  85, 252, 252, 252, 229, 215, 252, 252, 252, 196, 130,   0,   0,   0,   0,   0,   0,   0,   0,   0,   0,   0],\n",
              "       [  0,   0,   0,   0,   0,   0,  28, 199, 252, 252, 253, 252, 252, 233, 145,   0,   0,   0,   0,   0,   0,   0,   0,   0,   0,   0,   0,   0],\n",
              "       [  0,   0,   0,   0,   0,   0,   0,  25, 128, 252, 253, 252, 141,  37,   0,   0,   0,   0,   0,   0,   0,   0,   0,   0,   0,   0,   0,   0],\n",
              "       [  0,   0,   0,   0,   0,   0,   0,   0,   0,   0,   0,   0,   0,   0,   0,   0,   0,   0,   0,   0,   0,   0,   0,   0,   0,   0,   0,   0],\n",
              "       [  0,   0,   0,   0,   0,   0,   0,   0,   0,   0,   0,   0,   0,   0,   0,   0,   0,   0,   0,   0,   0,   0,   0,   0,   0,   0,   0,   0],\n",
              "       [  0,   0,   0,   0,   0,   0,   0,   0,   0,   0,   0,   0,   0,   0,   0,   0,   0,   0,   0,   0,   0,   0,   0,   0,   0,   0,   0,   0],\n",
              "       [  0,   0,   0,   0,   0,   0,   0,   0,   0,   0,   0,   0,   0,   0,   0,   0,   0,   0,   0,   0,   0,   0,   0,   0,   0,   0,   0,   0]], dtype=uint8)"
            ]
          },
          "metadata": {},
          "execution_count": 130
        }
      ]
    },
    {
      "cell_type": "markdown",
      "metadata": {
        "id": "5xU7aJZUxjkE"
      },
      "source": [
        "In the following code we are checking that we are using the correct channel format. Some backends *may* be using a channels first and others channels last. We want to make sure that we are not messing up our data as such we have the following code. After this we standardize our data by dividing everything in `x_test` and `x_train` by 255. "
      ]
    },
    {
      "cell_type": "code",
      "metadata": {
        "id": "PHrmGHRMGvXg"
      },
      "source": [
        "img_rows, img_cols=28, 28\n",
        "#For 3D data, \"channels_last\" assumes (conv_dim1, conv_dim2, conv_dim3, channels) while \n",
        "#\"channels_first\" assumes (channels, conv_dim1, conv_dim2, conv_dim3).\n",
        "if k.image_data_format() == 'channels_first':\n",
        "  x_train = x_train.reshape(x_train.shape[0], 1, img_rows, img_cols)\n",
        "  x_test = x_test.reshape(x_test.shape[0], 1, img_rows, img_cols)\n",
        "  inpx = (1, img_rows, img_cols)\n",
        " \n",
        "else:\n",
        "   x_train = x_train.reshape(x_train.shape[0], img_rows, img_cols, 1)\n",
        "   x_test = x_test.reshape(x_test.shape[0], img_rows, img_cols, 1)\n",
        "   inpx = (img_rows, img_cols, 1)\n",
        " \n",
        "x_train = x_train.astype('float32')\n",
        "x_test = x_test.astype('float32')\n",
        "x_train /= 255\n",
        "x_test /= 255"
      ],
      "execution_count": 131,
      "outputs": []
    },
    {
      "cell_type": "markdown",
      "metadata": {
        "id": "jPvVrIZSLE6S"
      },
      "source": [
        "Current shape of our data"
      ]
    },
    {
      "cell_type": "code",
      "metadata": {
        "colab": {
          "base_uri": "https://localhost:8080/"
        },
        "id": "BmoVLRtNLCQg",
        "outputId": "1e2387f3-f341-4538-c75a-4abf9741d94a"
      },
      "source": [
        "print(\"x_train: {}\".format(x_train.shape))\n",
        "print(\"x_test:  {}\".format(x_test.shape))"
      ],
      "execution_count": 105,
      "outputs": [
        {
          "output_type": "stream",
          "name": "stdout",
          "text": [
            "x_train: (60000, 28, 28, 1)\n",
            "x_test:  (10000, 28, 28, 1)\n"
          ]
        }
      ]
    },
    {
      "cell_type": "markdown",
      "metadata": {
        "id": "SniPC2inLPr2"
      },
      "source": [
        "# Creating functions\n",
        "The following code creates functions that let us to \n",
        "\n",
        "1. create a model\n",
        "2. train the model "
      ]
    },
    {
      "cell_type": "markdown",
      "metadata": {
        "id": "PEQUAOYkL_kF"
      },
      "source": [
        "# def create_model(my_learning_rate) \n",
        "\n",
        "We want to use a Sequential model because then we can then add layers to it. \n",
        "\n",
        "We are first adding a Conv2d layer with a kernel size of 3x3 since we want to create a CNN model. The kernel is the square that is going to be parsing the data. \n",
        "\n",
        "Here we are using RELU (Rectified Linear unit) as our activation function to make our model less linear. Since this is the first layer, we also need to define what our input shape is like. If you recall from earlier, our input shape is `(28, 28, 1)` since we are feeding our model images of size 28x28. \n",
        "\n",
        "After this we have a MaxPooling layer of size 2x2. Max pool will calculate the maximum value in the feature map. We are using max pooling over average pooling since it tends to work better for image classification. \n",
        "\n",
        "At the very end of this we have a Batch Normalization layer which as the name describes, will standardize the data in batches. This is supposed to make our model faster and more stable. \n",
        "\n",
        "After this we repeat this another time and also include a dropout layer to help prevent overfitting.\n",
        "\n",
        "Finally we are going to flatten the data so that we can use Dense layers which will also have an activation function. We're still using relu here and as such this layer is to make the data more nonlinear.\n",
        "\n",
        "At the very end we use a dense layer with an activation function of softmax to actually classify our data. The softmax layer is going to help us classify our images using the output from the convolutional layers.\n"
      ]
    },
    {
      "cell_type": "markdown",
      "metadata": {
        "id": "2Z-fNs-GSNXP"
      },
      "source": [
        "# def train_model\n",
        "In train model we are training a model using the model we just compiled earlier in the `create_model` function. We are also passing in our hyperparameters. In this way it is easier to test out different hyperparameters. \n",
        "\n"
      ]
    },
    {
      "cell_type": "code",
      "metadata": {
        "id": "YImgG3_yLOv3"
      },
      "source": [
        "def create_model(my_learning_rate):\n",
        "\n",
        "  model = models.Sequential()     \n",
        "  model.add(Conv2D(32, kernel_size=(3, 3), activation='relu', input_shape=(28, 28, 1)))   # defining shape  \n",
        "  model.add(MaxPooling2D(pool_size=(2, 2)))\n",
        "  model.add(BatchNormalization())\n",
        "\n",
        "  model.add(Conv2D(32, kernel_size=(3, 3), activation='relu'))   \n",
        "  model.add(MaxPooling2D(pool_size=(2, 2)))\n",
        "  model.add(BatchNormalization())\n",
        "  model.add(Dropout(0.25))\n",
        "\n",
        "  model.add(Flatten())\n",
        "  model.add(Dense(128, activation='relu'))\n",
        "  model.add(Dropout(0.5))\n",
        "  model.add(Dense(10, activation='softmax'))\n",
        "\n",
        "  model.compile(optimizer=tf.optimizers.Adam(learning_rate=my_learning_rate),\n",
        "                loss=keras.losses.categorical_crossentropy,\n",
        "                metrics=['accuracy'])\n",
        "  \n",
        "  return model    \n",
        "\n",
        "\n",
        "def train_model(model, train_features, train_label, epochs,\n",
        "                batch_size=None, validation_split=0.1):\n",
        "  \n",
        "  history = model.fit(train_features, train_label, \n",
        "          validation_split=validation_split,\n",
        "          batch_size=batch_size,\n",
        "          epochs=epochs,\n",
        "          shuffle=True,\n",
        "          verbose=1)\n",
        "  \n",
        "  epochs = history.epoch\n",
        "  hist = pd.DataFrame(history.history)\n",
        "\n",
        "  return epochs, hist "
      ],
      "execution_count": 106,
      "outputs": []
    },
    {
      "cell_type": "code",
      "metadata": {
        "colab": {
          "base_uri": "https://localhost:8080/"
        },
        "id": "an5MDUzPPO_O",
        "outputId": "1d964dc3-c659-4825-9d69-591bb07bc0ec"
      },
      "source": [
        "# The following variables are the hyperparameters.\n",
        "learning_rate = 0.001\n",
        "validation_split = 0.2\n",
        "batch_size = 128\n",
        "epochs = 10\n",
        "\n",
        "# Establish the model's topography.\n",
        "model = create_model(learning_rate)\n",
        "\n",
        "# Train the model on the normalized training set.\n",
        "epochs, hist = train_model(model, x_train, y_train, epochs, batch_size, validation_split)\n",
        "\n",
        "# Evaluate against the test set.\n",
        "print(\"\\n Evaluate the new model against the test set:\")\n",
        "model.evaluate(x=x_test, y=y_test, batch_size=batch_size)"
      ],
      "execution_count": 107,
      "outputs": [
        {
          "output_type": "stream",
          "name": "stdout",
          "text": [
            "Epoch 1/10\n",
            "375/375 [==============================] - 4s 10ms/step - loss: 0.2985 - accuracy: 0.9077 - val_loss: 1.8141 - val_accuracy: 0.4358\n",
            "Epoch 2/10\n",
            "375/375 [==============================] - 3s 9ms/step - loss: 0.1040 - accuracy: 0.9687 - val_loss: 0.0475 - val_accuracy: 0.9851\n",
            "Epoch 3/10\n",
            "375/375 [==============================] - 3s 9ms/step - loss: 0.0770 - accuracy: 0.9761 - val_loss: 0.0485 - val_accuracy: 0.9863\n",
            "Epoch 4/10\n",
            "375/375 [==============================] - 3s 9ms/step - loss: 0.0664 - accuracy: 0.9794 - val_loss: 0.0447 - val_accuracy: 0.9875\n",
            "Epoch 5/10\n",
            "375/375 [==============================] - 3s 9ms/step - loss: 0.0600 - accuracy: 0.9815 - val_loss: 0.0417 - val_accuracy: 0.9879\n",
            "Epoch 6/10\n",
            "375/375 [==============================] - 3s 9ms/step - loss: 0.0507 - accuracy: 0.9845 - val_loss: 0.0361 - val_accuracy: 0.9900\n",
            "Epoch 7/10\n",
            "375/375 [==============================] - 3s 9ms/step - loss: 0.0488 - accuracy: 0.9843 - val_loss: 0.0431 - val_accuracy: 0.9884\n",
            "Epoch 8/10\n",
            "375/375 [==============================] - 3s 8ms/step - loss: 0.0412 - accuracy: 0.9875 - val_loss: 0.0362 - val_accuracy: 0.9902\n",
            "Epoch 9/10\n",
            "375/375 [==============================] - 3s 8ms/step - loss: 0.0406 - accuracy: 0.9871 - val_loss: 0.0350 - val_accuracy: 0.9909\n",
            "Epoch 10/10\n",
            "375/375 [==============================] - 3s 8ms/step - loss: 0.0402 - accuracy: 0.9864 - val_loss: 0.0347 - val_accuracy: 0.9902\n",
            "\n",
            " Evaluate the new model against the test set:\n",
            "79/79 [==============================] - 0s 5ms/step - loss: 0.0268 - accuracy: 0.9912\n"
          ]
        },
        {
          "output_type": "execute_result",
          "data": {
            "text/plain": [
              "[0.026816556230187416, 0.9911999702453613]"
            ]
          },
          "metadata": {},
          "execution_count": 107
        }
      ]
    },
    {
      "cell_type": "markdown",
      "metadata": {
        "id": "GXZX_g9rYkZl"
      },
      "source": [
        "# TESTING ACCURACY\n",
        "Now we want to test the accuracy of our model. To do so we, we are importing metrics from sklearn to get the accuracy, recall, precision, and F1 score. \n",
        "\n",
        "To do this we need to convert our labels back from one-hot encoding to their orignal values. "
      ]
    },
    {
      "cell_type": "code",
      "metadata": {
        "colab": {
          "base_uri": "https://localhost:8080/"
        },
        "id": "_ydGq9wwX8Eo",
        "outputId": "b148ca14-46f2-440f-a695-b413dbb5c30f"
      },
      "source": [
        "from sklearn import metrics\n",
        "y_pred = model.predict(x_test, verbose=1) # getting the model to predict the labels from the x_test set"
      ],
      "execution_count": 109,
      "outputs": [
        {
          "output_type": "stream",
          "name": "stdout",
          "text": [
            "313/313 [==============================] - 1s 2ms/step\n"
          ]
        }
      ]
    },
    {
      "cell_type": "code",
      "metadata": {
        "id": "JGaw1_YdYZau"
      },
      "source": [
        "y_test = np.argmax(y_test, axis=1)\n",
        "y_pred = np.argmax(y_pred, axis=1)"
      ],
      "execution_count": 110,
      "outputs": []
    },
    {
      "cell_type": "code",
      "metadata": {
        "colab": {
          "base_uri": "https://localhost:8080/",
          "height": 308
        },
        "id": "tWKaySzPcbeZ",
        "outputId": "2fbf95be-da21-4a79-cda4-5a7c8e44f9bb"
      },
      "source": [
        "plt.figure(figsize=(28,4))\n",
        "for index, (image, label) in enumerate(zip(x_test[0:5], y_pred[0:5])):\n",
        "  plt.subplot(1, 5, index + 1)\n",
        "  plt.imshow(np.reshape(image, (28,28)), cmap=plt.cm.gray)\n",
        "  plt.title('predicted: %i\\n' % label, fontsize = 20)"
      ],
      "execution_count": 111,
      "outputs": [
        {
          "output_type": "display_data",
          "data": {
            "image/png": "[encoded data removed]",
            "text/plain": [
              "<Figure size 2016x288 with 5 Axes>"
            ]
          },
          "metadata": {
            "needs_background": "light"
          }
        }
      ]
    },
    {
      "cell_type": "code",
      "metadata": {
        "colab": {
          "base_uri": "https://localhost:8080/",
          "height": 308
        },
        "id": "HEfRsVG8YK8Q",
        "outputId": "b071b8c2-bd7b-4529-949a-4ed9a0553dd6"
      },
      "source": [
        "plt.figure(figsize=(28,4))\n",
        "for index, (image, label) in enumerate(zip(x_test[0:5], y_test[0:5])):\n",
        "  plt.subplot(1, 5, index + 1)\n",
        "  plt.imshow(np.reshape(image, (28,28)), cmap=plt.cm.gray)\n",
        "  plt.title('actual: %i\\n' % label, fontsize = 20)"
      ],
      "execution_count": 112,
      "outputs": [
        {
          "output_type": "display_data",
          "data": {
            "image/png": "[encoded data removed]",
            "text/plain": [
              "<Figure size 2016x288 with 5 Axes>"
            ]
          },
          "metadata": {
            "needs_background": "light"
          }
        }
      ]
    },
    {
      "cell_type": "code",
      "metadata": {
        "colab": {
          "base_uri": "https://localhost:8080/"
        },
        "id": "TbhQR2MTYJfS",
        "outputId": "d90f7564-4a4d-4f1b-f127-8b21f45d522e"
      },
      "source": [
        "print('Accuracy Score: {0:0.4f}'.format(metrics.accuracy_score(y_test, y_pred)))\n",
        "print('Recall Score: {0:0.4f}'.format( metrics.recall_score(y_test, y_pred, average='macro')))\n",
        "print('Precision Score: {0:0.4f}'.format(metrics.precision_score(y_test, y_pred, average='macro')))\n",
        "print('F1 Score: {0:0.4f}'.format(metrics.f1_score(y_test, y_pred, average='macro')))"
      ],
      "execution_count": 113,
      "outputs": [
        {
          "output_type": "stream",
          "name": "stdout",
          "text": [
            "Accuracy Score: 0.9912\n",
            "Recall Score: 0.9911\n",
            "Precision Score: 0.9911\n",
            "F1 Score: 0.9911\n"
          ]
        }
      ]
    },
    {
      "cell_type": "markdown",
      "metadata": {
        "id": "gE52t_mDV9uX"
      },
      "source": [
        "# Saving the model\n",
        "\n",
        "Now that we have a working cnn, we can now save our model. To do this we want move to the correct folder, in this case I have a folder called `saved_models` where I want to save my model to. "
      ]
    },
    {
      "cell_type": "code",
      "metadata": {
        "id": "B39TegWQPL9h"
      },
      "source": [
        "import os\n",
        "os.chdir(\"/content/drive/MyDrive/Colab Notebooks/cutie hack 2021/saved_models\")\n",
        "# this moves us into the correct folder that we want to be inside"
      ],
      "execution_count": 114,
      "outputs": []
    },
    {
      "cell_type": "code",
      "metadata": {
        "colab": {
          "base_uri": "https://localhost:8080/"
        },
        "id": "8TqMs0fGVaVe",
        "outputId": "6ee1722e-31b6-4197-8975-a2e8cf64faf9"
      },
      "source": [
        "model.save('mnist_cnn')"
      ],
      "execution_count": 115,
      "outputs": [
        {
          "output_type": "stream",
          "name": "stdout",
          "text": [
            "INFO:tensorflow:Assets written to: mnist_cnn/assets\n"
          ]
        }
      ]
    },
    {
      "cell_type": "markdown",
      "metadata": {
        "id": "r3pn_-s7WpM-"
      },
      "source": [
        "# Test if the model works\n",
        "Now that we saved our model, we want to see if it will work. To do so, let's try and load our model. "
      ]
    },
    {
      "cell_type": "code",
      "metadata": {
        "id": "8ya_zEV6W5Xh"
      },
      "source": [
        "new_model = models.load_model(\"mnist_cnn\")"
      ],
      "execution_count": 116,
      "outputs": []
    },
    {
      "cell_type": "markdown",
      "metadata": {
        "id": "AI4vbJjwZvT-"
      },
      "source": [
        "Since we are able to do this, let's try and compare the predicted values that we get to the original model. `np.testing.assert_allclose` will raise an AssertionError if the two objects are not equal. As such, if we get no error, then we have successfully loaded the original model! "
      ]
    },
    {
      "cell_type": "code",
      "metadata": {
        "id": "wlC6ynXTXCMb"
      },
      "source": [
        "y_pred_new = new_model.predict(x_test)\n",
        "y_pred_new = np.argmax(y_pred_new, axis=1)"
      ],
      "execution_count": 117,
      "outputs": []
    },
    {
      "cell_type": "code",
      "metadata": {
        "id": "1TkXC1yyZ2z2"
      },
      "source": [
        "np.testing.assert_allclose(\n",
        "    y_pred, y_pred_new\n",
        ")"
      ],
      "execution_count": 118,
      "outputs": []
    }
  ]
}